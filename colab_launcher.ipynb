# colab_launcher.ipynb
{
  "cells": [
    {
      "cell_type": "markdown",
      "metadata": {},
      "source": [
        "# 🍄 Kinoko-Takenoko Snack Classifier\n",
        "このノートブックは、GitHubからお菓子画像識別AIのテンプレートをクローンし、Google Colab上で実行できるようにするものです！"
      ]
    },
    {
      "cell_type": "code",
      "metadata": {},
      "execution_count": null,
      "outputs": [],
      "source": [
        "# ⚙️ GitHub からクローンして準備\n",
        "!git clone https://github.com/YOUR_USERNAME/Kinoko-Takenoko.git\n",
        "!pip install -r Kinoko-Takenoko/requirements.txt || echo 'requirements.txt がなければスキップ'\n",
        "import os\n",
        "os.chdir('Kinoko-Takenoko')"
      ]
    },
    {
      "cell_type": "code",
      "metadata": {},
      "execution_count": null,
      "outputs": [],
      "source": [
        "# 🔧 設定ファイルを表示して編集してみよう\n",
        "import json\n",
        "with open('config.json', 'r') as f:\n",
        "    config = json.load(f)\n",
        "config"
      ]
    },
    {
      "cell_type": "markdown",
      "metadata": {},
      "source": [
        "上のセルを実行して `config.json` の内容を確認しましょう！\n",
        "必要に応じて Colab のファイルタブから直接編集できます ✍️"
      ]
    },
    {
      "cell_type": "code",
      "metadata": {},
      "execution_count": null,
      "outputs": [],
      "source": [
        "# 🚀 モデルを学習・推論実行\n",
        "!python main.py"
      ]
    },
    {
      "cell_type": "markdown",
      "metadata": {},
      "source": [
        "`data/output` フォルダに分類結果の画像が保存されます！\n",
        "Drive にコピーしたい場合は以下のようにしてください：\n",
        "```python\n",
        "!cp -r data/output /content/drive/MyDrive/snack-output\n",
        "```"
      ]
    }
  ],
  "metadata": {
    "colab": {
      "name": "KinokoTakenoko_Launcher.ipynb",
      "provenance": []
    },
    "kernelspec": {
      "display_name": "Python 3",
      "language": "python",
      "name": "python3"
    },
    "language_info": {
      "name": "python"
    }
  },
  "nbformat": 4,
  "nbformat_minor": 5
}

